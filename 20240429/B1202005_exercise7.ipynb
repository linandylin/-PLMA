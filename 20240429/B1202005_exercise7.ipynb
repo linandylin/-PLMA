{
  "nbformat": 4,
  "nbformat_minor": 0,
  "metadata": {
    "colab": {
      "provenance": []
    },
    "kernelspec": {
      "name": "python3",
      "display_name": "Python 3"
    },
    "language_info": {
      "name": "python"
    }
  },
  "cells": [
    {
      "cell_type": "code",
      "execution_count": 16,
      "metadata": {
        "colab": {
          "base_uri": "https://localhost:8080/"
        },
        "id": "-wLj8rrntTKc",
        "outputId": "b2a4ad69-573c-4a7a-ea8d-2fc366f4a18f"
      },
      "outputs": [
        {
          "output_type": "stream",
          "name": "stdout",
          "text": [
            "輸入聖誕樹高度8\n",
            "        *\n",
            "       ***\n",
            "      *****\n",
            "     *******\n",
            "    *********\n",
            "   ***********\n",
            "  *************\n",
            " ***************\n",
            "       ***\n",
            "       ***\n",
            "       ***\n",
            "       ***\n",
            "       ***\n"
          ]
        }
      ],
      "source": [
        "def length(x):\n",
        "  if x>=7:\n",
        "    for a in range(x):\n",
        "      print((\" \"*(x-a))+(\"*\"*(2*a+1)))\n",
        "    if a==(x-1):\n",
        "      for b in range(5):\n",
        "        print((\" \"*(x-1)+\"*\"*3))\n",
        "  else:\n",
        "    print(\"Error, 請輸入大於等於七的數字\")\n",
        "length(int(input(\"輸入聖誕樹高度\")))"
      ]
    },
    {
      "cell_type": "code",
      "source": [
        "def BMI(a,b):\n",
        "  output=b/((a/100)**2)\n",
        "  return output\n",
        "try:\n",
        "  b=float(input(\"請輸入體重(kg):\"))\n",
        "  a=float(input(\"清輸入身高(cm):\"))\n",
        "  print(BMI(a,b))\n",
        "  if BMI(a,b)<18.5:\n",
        "    print(\"體位:過輕\")\n",
        "  elif 18.5<=BMI(a,b)<24:\n",
        "    print(\"體位:適中\")\n",
        "  elif 24<=BMI(a,b)<27:\n",
        "    print(\"體位:過重\")\n",
        "  else:\n",
        "    print(\"體位:肥胖\")\n",
        "except:\n",
        "  print(\"輸入內容錯誤\")"
      ],
      "metadata": {
        "colab": {
          "base_uri": "https://localhost:8080/"
        },
        "id": "YT-EhCTC4B6Y",
        "outputId": "4cc075e7-cb51-49ac-e5e7-e75835d216fb"
      },
      "execution_count": 23,
      "outputs": [
        {
          "output_type": "stream",
          "name": "stdout",
          "text": [
            "請輸入體重(kg):90\n",
            "清輸入身高(cm):200\n",
            "22.5\n",
            "體位:適中\n"
          ]
        }
      ]
    }
  ]
}