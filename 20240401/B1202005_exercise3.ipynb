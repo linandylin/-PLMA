{
  "nbformat": 4,
  "nbformat_minor": 0,
  "metadata": {
    "colab": {
      "provenance": []
    },
    "kernelspec": {
      "name": "python3",
      "display_name": "Python 3"
    },
    "language_info": {
      "name": "python"
    }
  },
  "cells": [
    {
      "cell_type": "code",
      "execution_count": 14,
      "metadata": {
        "colab": {
          "base_uri": "https://localhost:8080/"
        },
        "id": "vcbkKGIxegxm",
        "outputId": "e61b94bc-b38f-4719-8ffb-5a01a604f44b"
      },
      "outputs": [
        {
          "output_type": "stream",
          "name": "stdout",
          "text": [
            "[95, 80, 90]\n",
            "平均分數1為: 88.33333333333333\n",
            "{'姓名': '賴宏瑋', '性別': '男', '學號': 'M1129020'}\n",
            "平均分數為2: 95.0\n",
            "{'姓名': '許嘉綺', '性別': '女', '學號': 'M1229001'}\n"
          ]
        }
      ],
      "source": [
        "a={'姓名':'賴宏瑋','性別':'男','作業分數':[95,100,90]}\n",
        "b={'學號':'M1129020'}\n",
        "a.update(b)\n",
        "import copy\n",
        "c=copy.deepcopy(a)\n",
        "a['作業分數'][1]=80\n",
        "c['姓名']='許嘉綺'\n",
        "c['性別']='女'\n",
        "c['學號']='M1229001'\n",
        "d=a.pop('作業分數')\n",
        "print(d)\n",
        "平均分數1=sum(d)/len(d)\n",
        "print(\"平均分數1為:\",平均分數1)\n",
        "print(a)\n",
        "e=c.pop('作業分數')\n",
        "平均分數2=sum(e)/len(e)\n",
        "print(\"平均分數為2:\",平均分數2)\n",
        "print(c)"
      ]
    },
    {
      "cell_type": "code",
      "source": [
        "a=[100,50,45,60,90,95,80,50]\n",
        "a.insert(0,88)\n",
        "a[2:4]=[70,50]\n",
        "a.remove(50)\n",
        "b=a.pop(-1)\n",
        "c=a.pop(0)\n",
        "d=b+c\n",
        "print(d)\n"
      ],
      "metadata": {
        "colab": {
          "base_uri": "https://localhost:8080/"
        },
        "id": "zXxO9K4dfOJj",
        "outputId": "e76c3ffa-0dd4-4419-f357-8e0fc81b94c7"
      },
      "execution_count": 16,
      "outputs": [
        {
          "output_type": "stream",
          "name": "stdout",
          "text": [
            "138\n"
          ]
        }
      ]
    },
    {
      "cell_type": "code",
      "source": [
        "a=347//3\n",
        "b=347%3\n",
        "print(a)\n",
        "print(b)\n",
        "print(a**b)"
      ],
      "metadata": {
        "colab": {
          "base_uri": "https://localhost:8080/"
        },
        "id": "Do7dhF2lm0fy",
        "outputId": "af061165-1c8b-4a74-86f7-4e2c9f8746e1"
      },
      "execution_count": 19,
      "outputs": [
        {
          "output_type": "stream",
          "name": "stdout",
          "text": [
            "115\n",
            "2\n",
            "13225\n"
          ]
        }
      ]
    }
  ]
}