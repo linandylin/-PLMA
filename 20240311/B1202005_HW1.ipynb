{
  "nbformat": 4,
  "nbformat_minor": 0,
  "metadata": {
    "colab": {
      "provenance": []
    },
    "kernelspec": {
      "name": "python3",
      "display_name": "Python 3"
    },
    "language_info": {
      "name": "python"
    }
  },
  "cells": [
    {
      "cell_type": "code",
      "execution_count": null,
      "metadata": {
        "id": "PTYRo-yM3xbX",
        "colab": {
          "base_uri": "https://localhost:8080/"
        },
        "outputId": "dcd30fd5-c5a7-433b-af9a-fe0e5970357f"
      },
      "outputs": [
        {
          "output_type": "stream",
          "name": "stdout",
          "text": [
            "I'm a student\n"
          ]
        }
      ],
      "source": [
        "a=\"I'm a student\"\n",
        "print(a)\n"
      ]
    },
    {
      "cell_type": "code",
      "source": [
        "a=float(input('請輸入A的座標(x1):'))\n",
        "b=float(input('請輸入A的座標(y1):'))\n",
        "c=float(input('請輸入B的座標(x2):'))\n",
        "d=float(input('請輸入B的座標(y2):'))\n",
        "distance= ((a-c)**2 + (b-d)**2 )**0.5\n",
        "print(distance)"
      ],
      "metadata": {
        "colab": {
          "base_uri": "https://localhost:8080/"
        },
        "id": "3abz0HXZ-rKd",
        "outputId": "4bb4f1f3-e9dd-4817-c073-029e3d5a2b56"
      },
      "execution_count": null,
      "outputs": [
        {
          "output_type": "stream",
          "name": "stdout",
          "text": [
            "請輸入A的座標(x1):0\n",
            "請輸入A的座標(y1):0\n",
            "請輸入B的座標(x2):3\n",
            "請輸入B的座標(y2):4\n",
            "5.0\n"
          ]
        }
      ]
    },
    {
      "cell_type": "code",
      "source": [],
      "metadata": {
        "id": "yPNuoJLrlcEa"
      },
      "execution_count": null,
      "outputs": []
    },
    {
      "cell_type": "code",
      "source": [
        "a=float(input('請輸入身高(cm):'))\n",
        "b=float(input('請輸入體重(kg):'))\n",
        "a/=100\n",
        "b/=a**2\n",
        "print(b)\n"
      ],
      "metadata": {
        "colab": {
          "base_uri": "https://localhost:8080/"
        },
        "id": "Na2anZ-WbFlq",
        "outputId": "047615a5-b544-4f88-ed8d-459ff6cacf3d"
      },
      "execution_count": 1,
      "outputs": [
        {
          "output_type": "stream",
          "name": "stdout",
          "text": [
            "請輸入身高(cm):171\n",
            "請輸入體重(kg):68\n",
            "23.25501863821347\n"
          ]
        }
      ]
    },
    {
      "cell_type": "code",
      "source": [],
      "metadata": {
        "id": "Zt6S4qUUbTXz"
      },
      "execution_count": null,
      "outputs": []
    }
  ]
}