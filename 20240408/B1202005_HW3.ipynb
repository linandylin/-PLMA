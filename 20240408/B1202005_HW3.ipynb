{
  "nbformat": 4,
  "nbformat_minor": 0,
  "metadata": {
    "colab": {
      "provenance": []
    },
    "kernelspec": {
      "name": "python3",
      "display_name": "Python 3"
    },
    "language_info": {
      "name": "python"
    }
  },
  "cells": [
    {
      "cell_type": "code",
      "execution_count": 7,
      "metadata": {
        "colab": {
          "base_uri": "https://localhost:8080/"
        },
        "id": "CMS4nQ_tB8jE",
        "outputId": "c9128d4f-9181-4167-8b81-3975b86f8e4e"
      },
      "outputs": [
        {
          "output_type": "stream",
          "name": "stdout",
          "text": [
            "請輸入年份：1576\n",
            "閏年\n"
          ]
        }
      ],
      "source": [
        "year = int(input(\"請輸入年份：\"))\n",
        "\n",
        "if year <= 1582:\n",
        "    if year % 4 == 0:\n",
        "        print(\"閏年\")\n",
        "    else:\n",
        "        print(\"平年\")\n",
        "elif (year % 4 == 0 and year % 100 != 0) or (year % 400 == 0):\n",
        "    print(\"閏年\")\n",
        "else:\n",
        "    print(\"平年\")"
      ]
    }
  ]
}