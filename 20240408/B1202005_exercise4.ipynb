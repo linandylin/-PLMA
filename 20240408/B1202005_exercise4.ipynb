{
  "nbformat": 4,
  "nbformat_minor": 0,
  "metadata": {
    "colab": {
      "provenance": []
    },
    "kernelspec": {
      "name": "python3",
      "display_name": "Python 3"
    },
    "language_info": {
      "name": "python"
    }
  },
  "cells": [
    {
      "cell_type": "code",
      "execution_count": 3,
      "metadata": {
        "colab": {
          "base_uri": "https://localhost:8080/"
        },
        "id": "xbpVumQ5nW-s",
        "outputId": "1b5d0c8e-442f-49c5-a0b9-8a5ddb1ca8f2"
      },
      "outputs": [
        {
          "output_type": "stream",
          "name": "stdout",
          "text": [
            "請輸入身高(公分): 170\n",
            "請輸入體重(公斤): 65\n",
            "BMI: 22.49134948096886\n",
            "體位:適中\n"
          ]
        }
      ],
      "source": [
        "height = float(input(\"請輸入身高(公分): \"))\n",
        "weight = float(input(\"請輸入體重(公斤): \"))\n",
        "\n",
        "BMI = weight / ((height / 100) ** 2)\n",
        "print(\"BMI:\",BMI)\n",
        "if BMI < 18.5:\n",
        "  print(\"體位:過輕\")\n",
        "elif 18.5 <= BMI < 24:\n",
        "  print(\"體位:適中\")\n",
        "elif 24 <= BMI < 27:\n",
        "  print(\"體位:過重\")\n",
        "else:print(\"體位:肥胖\")"
      ]
    },
    {
      "cell_type": "code",
      "source": [],
      "metadata": {
        "id": "UuGsQ6_1pAFy"
      },
      "execution_count": 14,
      "outputs": []
    },
    {
      "cell_type": "code",
      "source": [
        "a = float(input(\"請輸入第一個數字: \"))\n",
        "operator = input(\"請輸入運算符號 (+, -, *, /): \")\n",
        "b = float(input(\"請輸入第二個數字: \"))\n",
        "\n",
        "if operator == '+':\n",
        "  result = a + b\n",
        "elif operator == '-':\n",
        "  result = a - b\n",
        "elif operator == '*':\n",
        "  result = a * b\n",
        "elif operator == '/':\n",
        "  if num2 != 0:\n",
        "    result = a / b\n",
        "  else:\n",
        "    print(\"錯誤: 除數不能為0\")\n",
        "\n",
        "else:print(\"錯誤: 運算符號無效\")\n",
        "\n",
        "print(result)\n"
      ],
      "metadata": {
        "colab": {
          "base_uri": "https://localhost:8080/"
        },
        "id": "hvjg6roUqBFc",
        "outputId": "6daf8c63-f597-4b27-9e4b-16c08ae9599a"
      },
      "execution_count": 15,
      "outputs": [
        {
          "output_type": "stream",
          "name": "stdout",
          "text": [
            "請輸入第一個數字: 5\n",
            "請輸入運算符號 (+, -, *, /): *\n",
            "請輸入第二個數字: 7\n",
            "35.0\n"
          ]
        }
      ]
    }
  ]
}